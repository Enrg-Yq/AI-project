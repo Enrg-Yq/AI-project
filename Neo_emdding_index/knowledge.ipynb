{
 "cells": [
  {
   "cell_type": "code",
   "execution_count": null,
   "id": "7e4f239a",
   "metadata": {},
   "outputs": [],
   "source": [
    "    params = record['n'].element_id\n",
    "    params = record['n']['title']\n",
    "    WHERE elementId(n) = $element_id\n",
    "    WHERE n.title = $title\n",
    "    # record['n'].element_id：获取的是 Neo4j 系统自动生成的节点唯一标识符，用于在数据库中唯一标识一个节点。\n",
    "    # record['n']['title']：获取的是用户自定义的节点属性值，反映节点的业务相关信息。"
   ]
  },
  {
   "cell_type": "code",
   "execution_count": null,
   "id": "7e6df405",
   "metadata": {},
   "outputs": [],
   "source": [
    "     \"\"\"\n",
    "    MATCH (n:Movie)\n",
    "    WHERE elementId(n) = $element_id\n",
    "    CALL db.create.setVectorProperty(n,'embedding',$embedding)\n",
    "    YIELD node\n",
    "    return count(*) as updated\n",
    "\n",
    "    \"\"\"\n",
    "    # cyper语言：时 Neo4j 数据库：db.create.setVectorProperty 存储过程已被弃用，未来版本可能会移除，\n",
    "    # 建议使用 db.create.setNodeVectorProperty\n",
    "    \"\"\"\n",
    "    MATCH (n:Movie)\n",
    "    WHERE elementId(n) = $element_id\n",
    "    CALL db.create.setNodeVectorProperty(n,'embedding',$embedding)\n",
    "    \"\"\"\n",
    "    # db.create.setNodeVectorProperty 是一个无返回值的过程，不能使用 YIELD 子句。\n",
    "    # 移除 YIELD 子句和后续的 return 语句"
   ]
  },
  {
   "cell_type": "markdown",
   "id": "a1146c85",
   "metadata": {},
   "source": [
    "class类的方式：客户端实例只需初始化一次，后续调用方法时复用该实例，节省资源和时间，提高性能，适合多次调用的场景。\n",
    "def函数的方式：每次调用函数都重新初始化客户端实例，开销大，效率低，在多次调用时劣势明显。"
   ]
  },
  {
   "cell_type": "code",
   "execution_count": null,
   "id": "75a6f03a",
   "metadata": {},
   "outputs": [],
   "source": [
    " print ('title',record['n'])\n",
    "# 在 Python 里，[] 是用来索引数据结构的，像列表、元组、字典这类数据结构，都能通过 [] 依据索引值或者键来获取对应元素。\n",
    "# 若用 {}, 就变成尝试创建新的字典，而非从 record 里获取值了"
   ]
  },
  {
   "cell_type": "code",
   "execution_count": null,
   "id": "01d94ed4",
   "metadata": {},
   "outputs": [],
   "source": [
    "# 假设你去图书馆借书，借书的流程是：进门、找书、看书、出门。在代码里，进门就相当于建立数据库连接，找书和看书就相当于执行数据库查询，出门就相当于关闭数据库连接。\n",
    "\n",
    "# 原来的代码就像是你进了图书馆，找到了书开始看，看完书才出门。但如果在看书的过程中，突然发生了意外，比如地震了（对应代码里的异常），你可能就慌慌张张跑出去了，忘记关门。这在代码里就意味着数据库连接没有正常关闭，一直开着，会浪费资源。\n",
    "# try...finally 语句解决办法\n",
    "# try...finally 语句就像是给你安排了一个“小助手”。你进图书馆找书看书的时候（try 块里的代码），如果一切正常，看完书正常出门；但要是遇到地震之类的意外（发生异常），这个“小助手”会在你跑出去之后，帮你把图书馆的门关上（finally 块里的代码一定会执行）。\n",
    "def neo4j_query(query, params=None, db_name=\"neo4j\"):\n",
    "    driver = GraphDatabase.driver(\n",
    "        \"bolt://localhost:7687\",\n",
    "        auth=(\"neo4j\", \"12345678\")\n",
    "    )\n",
    "    try:\n",
    "        # 尝试执行查询，就像在图书馆里找书看书\n",
    "        results, _, _ = driver.execute_query(query, params, database=db_name)\n",
    "    except Exception as e:\n",
    "        # 发生异常，比如地震了，记录一下\n",
    "        print(f\"查询出错: {e}\")\n",
    "    finally:\n",
    "        # 不管有没有异常，“小助手”都帮你关门，关闭数据库连接\n",
    "        driver.close()\n",
    "    return results\n",
    "# with 语句解决办法\n",
    "# with 语句就像是图书馆有一个自动门，你刷门禁卡进门（建立连接），在里面找书看书（执行查询），\n",
    "#     不管在里面有没有遇到意外，等你离开的时候，自动门会自动关上（连接自动关闭）。\n",
    "def neo4j_query(query, params=None, db_name=\"neo4j\"):\n",
    "    # 使用 with 语句，就像刷门禁卡进自动门的图书馆\n",
    "    with GraphDatabase.driver(\n",
    "        \"bolt://localhost:7687\",\n",
    "        auth=(\"neo4j\", \"12345678\")\n",
    "    ) as driver:\n",
    "        # 在图书馆里找书看书，执行查询\n",
    "        results, _, _ = driver.execute_query(query, params, database=db_name)\n",
    "    return results"
   ]
  }
 ],
 "metadata": {
  "language_info": {
   "name": "python"
  }
 },
 "nbformat": 4,
 "nbformat_minor": 5
}
