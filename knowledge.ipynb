{
 "cells": [
  {
   "cell_type": "code",
   "execution_count": null,
   "id": "7e4f239a",
   "metadata": {},
   "outputs": [],
   "source": [
    "    params = record['n'].element_id\n",
    "    params = record['n']['title']\n",
    "    WHERE elementId(n) = $element_id\n",
    "    WHERE n.title = $title\n",
    "    # record['n'].element_id：获取的是 Neo4j 系统自动生成的节点唯一标识符，用于在数据库中唯一标识一个节点。\n",
    "    # record['n']['title']：获取的是用户自定义的节点属性值，反映节点的业务相关信息。"
   ]
  },
  {
   "cell_type": "code",
   "execution_count": null,
   "id": "7e6df405",
   "metadata": {},
   "outputs": [],
   "source": [
    " \"\"\"\n",
    "    MATCH (n:Movie)\n",
    "    WHERE elementId(n) = $element_id\n",
    "    CALL db.create.setNodeVectorProperty(n,'embedding',$embedding)\n",
    "    YIELD node\n",
    "    return count(*) as updated\n",
    "\n",
    "    \"\"\"\n",
    "cyper语言：时 Neo4j 数据库：db.create.setVectorProperty 存储过程已被弃用，未来版本可能会移除，\n",
    "建议使用 db.create.setNodeVectorProperty"
   ]
  },
  {
   "cell_type": "code",
   "execution_count": null,
   "id": "75a6f03a",
   "metadata": {},
   "outputs": [],
   "source": [
    " print ('title',record['n'])\n",
    "# 在 Python 里，[] 是用来索引数据结构的，像列表、元组、字典这类数据结构，都能通过 [] 依据索引值或者键来获取对应元素。\n",
    "# 若用 {}, 就变成尝试创建新的字典，而非从 record 里获取值了"
   ]
  }
 ],
 "metadata": {
  "language_info": {
   "name": "python"
  }
 },
 "nbformat": 4,
 "nbformat_minor": 5
}
